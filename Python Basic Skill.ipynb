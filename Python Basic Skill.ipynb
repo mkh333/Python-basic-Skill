{
 "cells": [
  {
   "cell_type": "markdown",
   "id": "5440acbe",
   "metadata": {},
   "source": [
    "# Python Basic Skill"
   ]
  },
  {
   "cell_type": "code",
   "execution_count": 1,
   "id": "156ce824",
   "metadata": {},
   "outputs": [
    {
     "name": "stdout",
     "output_type": "stream",
     "text": [
      "Enter the length 4\n",
      "Enter the breadth 5\n",
      "The object is not square\n"
     ]
    }
   ],
   "source": [
    "# 1. Take values of the length & breadth of a rectangle from user input and check if it is square or not.\n",
    "\n",
    "a = int(input('Enter the length '))\n",
    "b = int(input('Enter the breadth '))\n",
    "\n",
    "if a != b :\n",
    "    print('The object is not square')\n",
    "else:\n",
    "    print('The object is square')"
   ]
  },
  {
   "cell_type": "code",
   "execution_count": 5,
   "id": "d19a0157",
   "metadata": {},
   "outputs": [
    {
     "name": "stdout",
     "output_type": "stream",
     "text": [
      "Enter First Number 45\n",
      "Enter Second Number 67\n",
      "Enter Third Number 17\n",
      "The greatest number is:  67\n"
     ]
    }
   ],
   "source": [
    "# 2. Take three integer values from the user and print the greatest among them.\n",
    "\n",
    "a = int(input('Enter First Number '))\n",
    "b = int(input('Enter Second Number '))\n",
    "c = int(input('Enter Third Number '))\n",
    "\n",
    "if a >= b and a >= c:\n",
    "    x = a\n",
    "elif b >= a and b >= c:\n",
    "    x = b\n",
    "else:\n",
    "    x = c\n",
    "\n",
    "print('The greatest number is: ', x)\n",
    "\n",
    "\n",
    "# Python max() Function\n",
    "# x = max(a , b, c)\n",
    "# print('The greatest number is ', x)\n",
    "\n"
   ]
  },
  {
   "cell_type": "code",
   "execution_count": 6,
   "id": "ab50e162",
   "metadata": {},
   "outputs": [
    {
     "name": "stdout",
     "output_type": "stream",
     "text": [
      "Enter attendance's percentage: 55\n",
      "He/She will not allowed to sit an exam\n"
     ]
    }
   ],
   "source": [
    "# 3. A student will not be allowed to sit in an exam if his/her attendance is less than 75%.\n",
    "\n",
    "a = int(input('Enter attendance\\'s percentage: '))\n",
    "if a < 75:\n",
    "    print('He/She will not allowed to sit an exam')\n",
    "else:\n",
    "    print('He/She can sit an exam')\n",
    "    "
   ]
  },
  {
   "cell_type": "code",
   "execution_count": 7,
   "id": "6ed3002e",
   "metadata": {},
   "outputs": [
    {
     "name": "stdout",
     "output_type": "stream",
     "text": [
      "Enter the mark: 65\n",
      "The grade is: B\n"
     ]
    }
   ],
   "source": [
    "'''  4. A school has the following rules for the grading system:\n",
    "Below 25 – F, 25 to 44 – E, 45 to 49 – D, 50 to 59 – C, 60 to 79 – B, 80 to 89 - A, Above 90 - A+\n",
    "Now, Ask the user to enter marks and print the corresponding grade.  ''' \n",
    "\n",
    "a = int(input('Enter the mark: '))\n",
    "\n",
    "if a < 25:\n",
    "    print('The grade is: F')\n",
    "elif a >= 25 and a <= 44:\n",
    "     print('The grade is: E')\n",
    "elif a >= 45 and a <= 49:\n",
    "     print('The grade is: D')\n",
    "elif a >= 50 and a <= 59:\n",
    "     print('The grade is: C')\n",
    "elif a >= 60 and a <= 79:\n",
    "     print('The grade is: B')\n",
    "elif a >= 80 and a <= 89:\n",
    "     print('The grade is: A')\n",
    "else:\n",
    "    print('The Grade is: A+')\n",
    "    \n"
   ]
  },
  {
   "cell_type": "code",
   "execution_count": 8,
   "id": "1e26df60",
   "metadata": {},
   "outputs": [
    {
     "name": "stdout",
     "output_type": "stream",
     "text": [
      "1 2 3 4 5 6 7 \n",
      "1 2 3 4 5 6 \n",
      "1 2 3 4 5 \n",
      "1 2 3 4 \n"
     ]
    }
   ],
   "source": [
    "'''\n",
    "5. Print the following pattern using for and while loop.\n",
    "1 2 3 4 5 6 7\n",
    "1 2 3 4 5 6\n",
    "1 2 3 4 5\n",
    "1 2 3 4\n",
    "\n",
    "'''\n",
    "\n",
    "\n",
    "i = 8\n",
    "while i > 4:\n",
    "    for j in range(1, i):\n",
    "        print(j, end=' ')\n",
    "    print()\n",
    "    i -= 1\n",
    "    \n",
    "\n"
   ]
  },
  {
   "cell_type": "code",
   "execution_count": 9,
   "id": "16402db1",
   "metadata": {},
   "outputs": [
    {
     "name": "stdout",
     "output_type": "stream",
     "text": [
      "-100 -99 -98 -97 -96 -95 -94 -93 -92 -91 -90 -89 -88 -87 -86 -85 -84 -83 -82 -81 -80 -79 -78 -77 -76 -75 -74 -73 -72 -71 -70 -69 -68 -67 -66 -65 -64 -63 -62 -61 -60 -59 -58 -57 -56 -55 -54 -53 -52 -51 -50 -49 -48 -47 -46 -45 -44 -43 -42 -41 -40 -39 -38 -37 -36 -35 -34 -33 -32 -31 -30 -29 -28 -27 -26 -25 -24 -23 -22 -21 -20 -19 -18 -17 -16 -15 -14 -13 -12 -11 -10 "
     ]
    }
   ],
   "source": [
    "'''  6. Display numbers from -100 to -10 using for loop. '''\n",
    "\n",
    "for i in range(-100, -9):\n",
    "    print(i, end=' ')"
   ]
  },
  {
   "cell_type": "code",
   "execution_count": 10,
   "id": "463e927f",
   "metadata": {},
   "outputs": [
    {
     "name": "stdout",
     "output_type": "stream",
     "text": [
      " Sum of the prime numbers between 10 and 1000 are: 76110\n"
     ]
    }
   ],
   "source": [
    "''' 7. Write a program to sum all prime numbers within a range of 10 to 1000. '''\n",
    "\n",
    "lower = 10\n",
    "upper = 1000\n",
    "sum = 0\n",
    "\n",
    "for num in range(lower, upper + 1):\n",
    "\n",
    "   if num > 1:\n",
    "       for i in range(2, num):\n",
    "           if (num % i) == 0:\n",
    "               break\n",
    "       else:\n",
    "           sum += num\n",
    "print(\" Sum of the prime numbers between\", lower, \"and\", upper, \"are:\", sum)"
   ]
  },
  {
   "cell_type": "code",
   "execution_count": 12,
   "id": "6ae5d0b5",
   "metadata": {},
   "outputs": [
    {
     "name": "stdout",
     "output_type": "stream",
     "text": [
      "Enter a number: 9\n",
      "The factorial of 9 is: 362880\n"
     ]
    }
   ],
   "source": [
    "''' 8. Find the factorial of an n! (Hint, n=7: 7*6*5*4*3*2*1). '''\n",
    "\n",
    "\n",
    "num = int(input(\"Enter a number: \"))\n",
    "\n",
    "factorial = 1\n",
    "\n",
    "if num < 0:\n",
    "   print(\"Sorry, factorial does not exist for negative numbers\")\n",
    "elif num == 0:\n",
    "   print(\"The factorial of 0 is 1\")\n",
    "else:\n",
    "   for i in range(1,num + 1):\n",
    "       factorial = factorial*i\n",
    "   print(\"The factorial of\",num,\"is:\",factorial)\n"
   ]
  },
  {
   "cell_type": "code",
   "execution_count": 13,
   "id": "d981780d",
   "metadata": {},
   "outputs": [
    {
     "name": "stdout",
     "output_type": "stream",
     "text": [
      "Enter a number: 5673\n",
      "Reversed Number: 3765\n"
     ]
    }
   ],
   "source": [
    "''' 9. Reverse a given integer number 27956240710. '''\n",
    "\n",
    "num = int(input('Enter a number: '))\n",
    "reversed_num = 0\n",
    "\n",
    "while num != 0:\n",
    "    digit = num % 10\n",
    "    reversed_num = reversed_num * 10 + digit\n",
    "    num //= 10\n",
    "\n",
    "print(\"Reversed Number: \" + str(reversed_num))\n",
    "\n",
    "\n",
    "# String Slicing method\n",
    "\n",
    "# num = int(input('Enter a Number: '))\n",
    "# print('Reversed Number: ' + str(num)[::-1])\n"
   ]
  },
  {
   "cell_type": "code",
   "execution_count": 14,
   "id": "8ddb0a42",
   "metadata": {},
   "outputs": [
    {
     "name": "stdout",
     "output_type": "stream",
     "text": [
      "# # # \n",
      "# # # # \n",
      "# # # \n",
      "# # \n"
     ]
    }
   ],
   "source": [
    "'''\n",
    "10. Print the following pattern using for and while loop.\n",
    "# # #\n",
    "# # # #\n",
    "# # #\n",
    "# #\n",
    "'''\n",
    "\n",
    "i = 3\n",
    "while i < 6:\n",
    "    if i == 3:\n",
    "        for j in range(1, i+1):\n",
    "            print('#', end=' ')\n",
    "        print()\n",
    "    for j in range(i, 7):\n",
    "        print('#', end=' ')\n",
    "    print()\n",
    "    i+=1\n",
    "        "
   ]
  },
  {
   "cell_type": "code",
   "execution_count": 16,
   "id": "438aec30",
   "metadata": {},
   "outputs": [
    {
     "name": "stdout",
     "output_type": "stream",
     "text": [
      "[0, 1, 1, 2, 3, 5, 8, 13, 21, 34, 55, 89, 144, 233, 377]\n"
     ]
    }
   ],
   "source": [
    "# 11. Display the Fibonacci series of 15 elements using the for and while loop.\n",
    "\n",
    "def fibonacci(n):\n",
    "    sequence = []\n",
    "    if n == 1:\n",
    "        sequence = [0]\n",
    "    else:\n",
    "        sequence = [0,1]\n",
    "        count = 1\n",
    "        while count + 1 < n:\n",
    "            sequence.append(sequence[count-1] + sequence[count])\n",
    "            count = count + 1\n",
    "    return sequence\n",
    "\n",
    "print(fibonacci(15))\n"
   ]
  },
  {
   "cell_type": "code",
   "execution_count": 17,
   "id": "aa078897",
   "metadata": {},
   "outputs": [
    {
     "data": {
      "text/plain": [
       "[1, 3, 5, [3, 3], False]"
      ]
     },
     "execution_count": 17,
     "metadata": {},
     "output_type": "execute_result"
    }
   ],
   "source": [
    "'''\n",
    "12. Remove 2 and add 3 to the list and replace True with False.\n",
    "Li = [1,3,5, [2,3], True]\n",
    "Output = [1,3,5, [3,3], False]\n",
    "\n",
    "'''\n",
    "Li = [1,3,5, [2,3], True]\n",
    "Li[3] = [3,3]\n",
    "Li[4] = False\n",
    "\n",
    "Li"
   ]
  },
  {
   "cell_type": "code",
   "execution_count": 18,
   "id": "7c3f2077",
   "metadata": {},
   "outputs": [
    {
     "data": {
      "text/plain": [
       "{True}"
      ]
     },
     "execution_count": 18,
     "metadata": {},
     "output_type": "execute_result"
    }
   ],
   "source": [
    "'''\n",
    "13. Find the intersection (common) of two sets.\n",
    "S1 = {1,4,6,8}\n",
    "S2 = {True, 1,2,10}\n",
    "\n",
    "'''\n",
    "\n",
    "S1 = {1,4,6,8}\n",
    "S2 = {True, 1,2,10}\n",
    "\n",
    "z = S1.intersection(S2)\n",
    "z"
   ]
  },
  {
   "cell_type": "code",
   "execution_count": 19,
   "id": "4a85100e",
   "metadata": {},
   "outputs": [
    {
     "name": "stdout",
     "output_type": "stream",
     "text": [
      "[2, 4, 5, 10, 20]\n",
      "20\n"
     ]
    }
   ],
   "source": [
    "'''\n",
    "14. Input a list from the user then Remove duplicates from a list and create a set and find the max\n",
    "number. User_input = [1,9,3,4,5,200,54]\n",
    "\n",
    "'''\n",
    "user_input = [2, 4, 10, 20, 5, 2, 20, 4]\n",
    "print(list(set(user_input)))\n",
    "print(max(set(user_input)))"
   ]
  },
  {
   "cell_type": "code",
   "execution_count": 20,
   "id": "77278cfd",
   "metadata": {},
   "outputs": [
    {
     "data": {
      "text/plain": [
       "{'name': 'Shakil', 'age': 27, 'city': 'Berlin', 'region': 'Germany'}"
      ]
     },
     "execution_count": 20,
     "metadata": {},
     "output_type": "execute_result"
    }
   ],
   "source": [
    "'''\n",
    "15. Rename the key of a dictionary.\n",
    "Dict = { \"name\": \"Shakil\", \"age\":27, \"city\": “Berlin”, \"country\": \"Germany\" }\n",
    "Write a program to rename a key ‘country’ to a ‘region’ in the following dictionary.\n",
    "\n",
    "'''\n",
    "\n",
    "Dict = { \"name\": \"Shakil\", \"age\":27, \"city\": 'Berlin', \"country\": \"Germany\" }\n",
    "Dict['region'] = Dict['country']\n",
    "del Dict['country']\n",
    "Dict"
   ]
  },
  {
   "cell_type": "code",
   "execution_count": 21,
   "id": "f2eb7b46",
   "metadata": {},
   "outputs": [
    {
     "data": {
      "text/plain": [
       "{'name': 'Shakil', 'age': 28, 'city': 'Berlin', 'country': 'Germany'}"
      ]
     },
     "execution_count": 21,
     "metadata": {},
     "output_type": "execute_result"
    }
   ],
   "source": [
    "'''\n",
    "16. Change the value of a key in a given dictionary.\n",
    "Write a Python program to change ‘age’ to 28 in the following dictionary.\n",
    "Dict = { \"name\": \"Shakil\", \"age\":27, \"city\": 'Berlin', \"country\": \"Germany\" }\n",
    "\n",
    "'''\n",
    "\n",
    "Dict = { \"name\": \"Shakil\", \"age\":27, \"city\": 'Berlin', \"country\": \"Germany\" }\n",
    "Dict['age'] = 28\n",
    "Dict"
   ]
  },
  {
   "cell_type": "code",
   "execution_count": 22,
   "id": "cf9527c1",
   "metadata": {},
   "outputs": [
    {
     "data": {
      "text/html": [
       "<div>\n",
       "<style scoped>\n",
       "    .dataframe tbody tr th:only-of-type {\n",
       "        vertical-align: middle;\n",
       "    }\n",
       "\n",
       "    .dataframe tbody tr th {\n",
       "        vertical-align: top;\n",
       "    }\n",
       "\n",
       "    .dataframe thead th {\n",
       "        text-align: right;\n",
       "    }\n",
       "</style>\n",
       "<table border=\"1\" class=\"dataframe\">\n",
       "  <thead>\n",
       "    <tr style=\"text-align: right;\">\n",
       "      <th></th>\n",
       "      <th>number</th>\n",
       "    </tr>\n",
       "  </thead>\n",
       "  <tbody>\n",
       "    <tr>\n",
       "      <th>0</th>\n",
       "      <td>10</td>\n",
       "    </tr>\n",
       "    <tr>\n",
       "      <th>1</th>\n",
       "      <td>100</td>\n",
       "    </tr>\n",
       "    <tr>\n",
       "      <th>2</th>\n",
       "      <td>300</td>\n",
       "    </tr>\n",
       "  </tbody>\n",
       "</table>\n",
       "</div>"
      ],
      "text/plain": [
       "   number\n",
       "0      10\n",
       "1     100\n",
       "2     300"
      ]
     },
     "execution_count": 22,
     "metadata": {},
     "output_type": "execute_result"
    }
   ],
   "source": [
    "'''\n",
    "17. Creating a data frame using the list.\n",
    "num = [10,100,300] (column name is number)\n",
    "\n",
    "'''\n",
    "\n",
    "import pandas as pd\n",
    "num = [10,100,300]\n",
    "df = pd.DataFrame(num, columns=['number'])\n",
    "df"
   ]
  }
 ],
 "metadata": {
  "kernelspec": {
   "display_name": "Python 3 (ipykernel)",
   "language": "python",
   "name": "python3"
  },
  "language_info": {
   "codemirror_mode": {
    "name": "ipython",
    "version": 3
   },
   "file_extension": ".py",
   "mimetype": "text/x-python",
   "name": "python",
   "nbconvert_exporter": "python",
   "pygments_lexer": "ipython3",
   "version": "3.10.0"
  }
 },
 "nbformat": 4,
 "nbformat_minor": 5
}
